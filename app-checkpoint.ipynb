{
 "cells": [
  {
   "cell_type": "code",
   "execution_count": 1,
   "id": "15c6fca1-f648-4731-b419-553d15879de2",
   "metadata": {},
   "outputs": [],
   "source": [
    "import streamlit as st\n",
    "from PIL import Image\n",
    "import numpy as np\n",
    "import tensorflow as tf\n",
    "import pandas as pd"
   ]
  },
  {
   "cell_type": "code",
   "execution_count": 2,
   "id": "3014b9c8-b340-4d3a-8913-f410e6a9390a",
   "metadata": {},
   "outputs": [],
   "source": [
    "# Load your trained model\n",
    "model = tf.keras.models.load_model(\"C:/Users/user/best_model.keras\")"
   ]
  },
  {
   "cell_type": "code",
   "execution_count": 3,
   "id": "0fe74f3f-adba-4de6-be7c-d6fb200e1c08",
   "metadata": {},
   "outputs": [],
   "source": [
    "# Load additional information from Excel\n",
    "info_df = pd.read_excel(\"C:/Users/user/OneDrive - Ashesi University/intro to ai/Nigerianfood_additionalinfo.xlsx\")"
   ]
  },
  {
   "cell_type": "code",
   "execution_count": 4,
   "id": "6c039e28-57e2-4108-b382-f3392dfbb2dd",
   "metadata": {},
   "outputs": [],
   "source": [
    "def preprocess_image(img):\n",
    "    \"\"\"\n",
    "    Preprocess the image for prediction.\n",
    "    \"\"\"\n",
    "    img = img.resize((299, 299))  # Resize image to the model's expected input size\n",
    "    img_array = np.array(img, dtype=np.float32)  # Convert image to numpy array with float32 type\n",
    "    if img_array.ndim == 2:  # Check if image is grayscale\n",
    "        img_array = np.stack([img_array] * 3, axis=-1)  # Convert grayscale to RGB\n",
    "    img_array /= 255.0  # Normalize to [0, 1]\n",
    "    img_array = np.expand_dims(img_array, axis=0)  # Add batch dimension\n",
    "    return img_array"
   ]
  },
  {
   "cell_type": "code",
   "execution_count": 6,
   "id": "55644d52-ec66-47fe-927c-d83ba8e5a910",
   "metadata": {},
   "outputs": [],
   "source": [
    "def get_food_name(predicted_class):\n",
    "    \"\"\"\n",
    "    Retrieve the food name based on the predicted class index.\n",
    "    \"\"\"\n",
    "    food_names = [\n",
    "        'Abacha and Ugba', 'Akara and Eko', 'Amala and Gbegiri-Ewedu', 'Asaro', 'Boli(Bole)', \n",
    "        'Chin Chin', 'Egusi Soup', 'Ewa-Agoyin', 'Fried plantains(Dodo)', 'Jollof Rice', \n",
    "        'Meat Pie', 'Moin-moin', 'Nkwobi', 'Okro Soup', 'Pepper Soup', 'Puff Puff', \n",
    "        'Suya', 'Vegetable Soup'\n",
    "    ]\n",
    "    return food_names[predicted_class]"
   ]
  },
  {
   "cell_type": "code",
   "execution_count": 8,
   "id": "8c312e9e-b3fb-4203-93d4-6f6bd08bcab8",
   "metadata": {},
   "outputs": [],
   "source": [
    "def get_additional_info(food_name):\n",
    "    \"\"\"\n",
    "    Retrieve additional information from the DataFrame based on the food name.\n",
    "    \"\"\"\n",
    "    if food_name in info_df['food_name'].values:\n",
    "        info = info_df[info_df['food_name'] == food_name].iloc[0]\n",
    "        return {\n",
    "            'Origin or State': info['Origin_or_State'],\n",
    "            'Popular Countries': info['Pop_Countries'],\n",
    "            'Health Benefits': info['Health_Benefits'],\n",
    "            'Calories': info['calories'],\n",
    "            'Nutrient Ratio': info['Nutrient_Ratio'],\n",
    "            'Ingredients': info['Ingredients'],\n",
    "            'Protein Content': info['Protein_Content'],\n",
    "            'Fat Content': info['Fat_Content'],\n",
    "            'Carbohydrate Content': info['Carbohydrate_Content'],\n",
    "            'Allergens': info['Allergens'],\n",
    "            'Mineral Content': info['Mineral-Content'],\n",
    "            'Vitamin Content': info['Vitamin_Content'],\n",
    "            'Suitability': info['Suitability'],\n",
    "            'Fiber Content': info['Fiber_Content']\n",
    "        }\n",
    "    return None"
   ]
  },
  {
   "cell_type": "code",
   "execution_count": 9,
   "id": "77e53634-bc48-43a7-8b73-b7095d82c8c9",
   "metadata": {},
   "outputs": [],
   "source": [
    "def predict_and_get_info(image):\n",
    "    \"\"\"\n",
    "    Predict the food and retrieve additional information.\n",
    "    \"\"\"\n",
    "    # Preprocess the image\n",
    "    processed_image = preprocess_image(image)\n",
    "\n",
    "    # Make a prediction\n",
    "    predictions = model.predict(processed_image)\n",
    "    predicted_class = np.argmax(predictions, axis=1)[0]\n",
    "\n",
    "    # Retrieve additional information\n",
    "    food_name = get_food_name(predicted_class)\n",
    "    additional_info = get_additional_info(food_name)\n",
    "\n",
    "    return food_name, additional_info"
   ]
  },
  {
   "cell_type": "code",
   "execution_count": 10,
   "id": "f5666dcf-7b20-4c03-a7ed-96e7f9a28099",
   "metadata": {},
   "outputs": [
    {
     "name": "stderr",
     "output_type": "stream",
     "text": [
      "2024-08-05 20:08:01.957 \n",
      "  \u001b[33m\u001b[1mWarning:\u001b[0m to view this Streamlit app on a browser, run it with the following\n",
      "  command:\n",
      "\n",
      "    streamlit run C:\\Users\\user\\anaconda3\\Lib\\site-packages\\ipykernel_launcher.py [ARGUMENTS]\n"
     ]
    }
   ],
   "source": [
    "# Streamlit app\n",
    "st.title(\"Nigerian Food Classifier\")\n",
    "\n",
    "uploaded_file = st.file_uploader(\"Choose an image...\", type=\"jpg\")\n",
    "if uploaded_file is not None:\n",
    "    # Load and display the image\n",
    "    image = Image.open(uploaded_file)\n",
    "    st.image(image, caption='Uploaded Image.', use_column_width=True)\n",
    "\n",
    "    # Predict and get additional information\n",
    "    food_name, additional_info = predict_and_get_info(image)\n",
    "\n",
    "    # Display results\n",
    "    st.write(f\"Predicted Food: {food_name}\")\n",
    "    if additional_info:\n",
    "        for key, value in additional_info.items():\n",
    "            st.write(f\"{key}: {value}\")\n",
    "    else:\n",
    "        st.write(\"No additional information available.\")"
   ]
  },
  {
   "cell_type": "code",
   "execution_count": null,
   "id": "8adea2ee-7de2-4230-9cfc-441f54405db8",
   "metadata": {},
   "outputs": [],
   "source": []
  },
  {
   "cell_type": "code",
   "execution_count": null,
   "id": "fe13c41f-6e1c-474e-8a7b-699d1e0b8973",
   "metadata": {},
   "outputs": [],
   "source": []
  },
  {
   "cell_type": "code",
   "execution_count": null,
   "id": "be0fe89d-eb8f-41f4-b4ce-02d67ec40ae4",
   "metadata": {},
   "outputs": [],
   "source": []
  },
  {
   "cell_type": "code",
   "execution_count": null,
   "id": "fec2acc2-3f3a-4415-82d6-d1fb088d7bcb",
   "metadata": {},
   "outputs": [],
   "source": []
  },
  {
   "cell_type": "code",
   "execution_count": null,
   "id": "bae273a6-b754-4ccd-a293-54609c197b83",
   "metadata": {},
   "outputs": [],
   "source": []
  },
  {
   "cell_type": "code",
   "execution_count": null,
   "id": "6eb8e5e0-80f1-4b9e-b9dd-09750fc1cecc",
   "metadata": {},
   "outputs": [],
   "source": []
  },
  {
   "cell_type": "code",
   "execution_count": null,
   "id": "973f0cbf-d2d5-4a7f-b2a4-fd9491169bc0",
   "metadata": {},
   "outputs": [],
   "source": []
  },
  {
   "cell_type": "code",
   "execution_count": null,
   "id": "41b87437-684e-47d6-9e30-679eadf56d12",
   "metadata": {},
   "outputs": [],
   "source": []
  },
  {
   "cell_type": "code",
   "execution_count": null,
   "id": "45ed81e9-18da-4ae5-876c-df0e1f342305",
   "metadata": {},
   "outputs": [],
   "source": []
  },
  {
   "cell_type": "code",
   "execution_count": null,
   "id": "ac66af54-af21-41f3-b9ee-9700383929c9",
   "metadata": {},
   "outputs": [],
   "source": []
  },
  {
   "cell_type": "code",
   "execution_count": null,
   "id": "466f67dc-5e8f-4f22-8848-59e18997ba0d",
   "metadata": {},
   "outputs": [],
   "source": []
  },
  {
   "cell_type": "code",
   "execution_count": null,
   "id": "7b31ce48-2da9-46f6-8b87-0040d136dd6a",
   "metadata": {},
   "outputs": [],
   "source": []
  },
  {
   "cell_type": "code",
   "execution_count": null,
   "id": "5cbe8602-4000-4970-9760-ab849bcdf5e7",
   "metadata": {},
   "outputs": [],
   "source": []
  },
  {
   "cell_type": "code",
   "execution_count": null,
   "id": "efc2af97-96f4-4e76-84b9-5ca8fb052920",
   "metadata": {},
   "outputs": [],
   "source": []
  },
  {
   "cell_type": "code",
   "execution_count": null,
   "id": "4ff98f40-696a-4f91-af46-77da2b60fba3",
   "metadata": {},
   "outputs": [],
   "source": []
  },
  {
   "cell_type": "code",
   "execution_count": null,
   "id": "7af828eb-41f4-4f83-be0e-6b944aea4336",
   "metadata": {},
   "outputs": [],
   "source": []
  },
  {
   "cell_type": "code",
   "execution_count": null,
   "id": "683a8703-2852-4e85-9497-fa187091ed1c",
   "metadata": {},
   "outputs": [],
   "source": []
  },
  {
   "cell_type": "code",
   "execution_count": null,
   "id": "d44b2b18-2c84-45a3-96d4-ae8242dfa373",
   "metadata": {},
   "outputs": [],
   "source": []
  },
  {
   "cell_type": "code",
   "execution_count": null,
   "id": "781056b9-1ee6-4e86-978e-70b4b7cabd2e",
   "metadata": {},
   "outputs": [],
   "source": []
  },
  {
   "cell_type": "code",
   "execution_count": null,
   "id": "a35adb76-2af4-4328-b10b-c51588970c23",
   "metadata": {},
   "outputs": [],
   "source": []
  },
  {
   "cell_type": "code",
   "execution_count": null,
   "id": "1cdf3941-4002-40b0-83de-93cae7af8ab0",
   "metadata": {},
   "outputs": [],
   "source": []
  },
  {
   "cell_type": "code",
   "execution_count": null,
   "id": "ea383620-d6dc-4d99-853d-6b9abbbd87a6",
   "metadata": {},
   "outputs": [],
   "source": []
  },
  {
   "cell_type": "code",
   "execution_count": null,
   "id": "0d8560e1-b8f7-484e-8905-68270e65e795",
   "metadata": {},
   "outputs": [],
   "source": []
  },
  {
   "cell_type": "code",
   "execution_count": null,
   "id": "062854a2-4522-438d-a534-28b64128ab81",
   "metadata": {},
   "outputs": [],
   "source": []
  },
  {
   "cell_type": "code",
   "execution_count": null,
   "id": "4d2c3644-5839-434c-abd5-9fe6997ea3b8",
   "metadata": {},
   "outputs": [],
   "source": []
  },
  {
   "cell_type": "code",
   "execution_count": null,
   "id": "80bfc815-2500-4ddc-b219-4b0a440e2b9c",
   "metadata": {},
   "outputs": [],
   "source": []
  },
  {
   "cell_type": "code",
   "execution_count": null,
   "id": "e1104ae0-5d53-42d0-bfc3-02ba76d39ddb",
   "metadata": {},
   "outputs": [],
   "source": []
  },
  {
   "cell_type": "code",
   "execution_count": null,
   "id": "2e9ff438-f0a1-4895-87cd-210e9cf32569",
   "metadata": {},
   "outputs": [],
   "source": []
  },
  {
   "cell_type": "code",
   "execution_count": null,
   "id": "381f96d2-28e3-4149-a6a8-406690403894",
   "metadata": {},
   "outputs": [],
   "source": []
  },
  {
   "cell_type": "code",
   "execution_count": null,
   "id": "48776d84-054a-44fc-920a-4156763d361f",
   "metadata": {},
   "outputs": [],
   "source": []
  },
  {
   "cell_type": "code",
   "execution_count": null,
   "id": "857bda8e-04d4-4396-9037-d9b41f154115",
   "metadata": {},
   "outputs": [],
   "source": []
  },
  {
   "cell_type": "code",
   "execution_count": null,
   "id": "4bf50924-289d-451c-ab2d-e87f427f6b60",
   "metadata": {},
   "outputs": [],
   "source": []
  },
  {
   "cell_type": "code",
   "execution_count": null,
   "id": "1417742e-042e-4c7e-80ef-d417d0d58c45",
   "metadata": {},
   "outputs": [],
   "source": []
  },
  {
   "cell_type": "code",
   "execution_count": null,
   "id": "41fece7a-88e1-406d-bd9d-62b482a89d18",
   "metadata": {},
   "outputs": [],
   "source": []
  }
 ],
 "metadata": {
  "kernelspec": {
   "display_name": "Python 3 (ipykernel)",
   "language": "python",
   "name": "python3"
  },
  "language_info": {
   "codemirror_mode": {
    "name": "ipython",
    "version": 3
   },
   "file_extension": ".py",
   "mimetype": "text/x-python",
   "name": "python",
   "nbconvert_exporter": "python",
   "pygments_lexer": "ipython3",
   "version": "3.11.7"
  }
 },
 "nbformat": 4,
 "nbformat_minor": 5
}
